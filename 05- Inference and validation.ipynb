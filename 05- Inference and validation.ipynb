{
 "cells": [
  {
   "cell_type": "markdown",
   "metadata": {},
   "source": [
    "### Loading the data"
   ]
  },
  {
   "cell_type": "code",
   "execution_count": 1,
   "metadata": {},
   "outputs": [],
   "source": [
    "import torch\n",
    "from torchvision import transforms, datasets\n",
    "\n",
    "transform = transforms.Compose([transforms.ToTensor(),\n",
    "                                transforms.Normalize((0.5,), (0.5,))])\n",
    "\n",
    "trainset = datasets.FashionMNIST('F_MNIST_data/', train=True, download=True, transform=transform)\n",
    "trainloader = torch.utils.data.DataLoader(trainset, batch_size=64, shuffle=True)\n",
    "\n",
    "testset = datasets.FashionMNIST('F_MNIST_data/', train=False, download=True, transform=transform)\n",
    "testloader = torch.utils.data.DataLoader(testset, batch_size=64, shuffle=True)"
   ]
  },
  {
   "cell_type": "markdown",
   "metadata": {},
   "source": [
    "### defining the model"
   ]
  },
  {
   "cell_type": "code",
   "execution_count": 2,
   "metadata": {},
   "outputs": [],
   "source": [
    "from torch import nn, optim\n",
    "import torch.nn.functional as F\n",
    "\n",
    "class Classifier(nn.Module):\n",
    "    def __init__(self):\n",
    "        super().__init__()\n",
    "        self.fc1 = nn.Linear(784, 256)\n",
    "        self.fc2 = nn.Linear(256, 128)\n",
    "        self.fc3 = nn.Linear(128, 64)\n",
    "        self.fc4 = nn.Linear(64, 10)\n",
    "    \n",
    "    def forward(self, x):\n",
    "#         flattening the input tensor here, so that we can pass the image directly\n",
    "        x = x.view(x.shape[0], -1)\n",
    "        \n",
    "        x = F.relu(self.fc1(x))\n",
    "        x = F.relu(self.fc2(x))\n",
    "        x = F.relu(self.fc3(x))\n",
    "        x = F.log_softmax(self.fc4(x), dim=1)\n",
    "        \n",
    "        return x"
   ]
  },
  {
   "cell_type": "code",
   "execution_count": 3,
   "metadata": {},
   "outputs": [
    {
     "name": "stdout",
     "output_type": "stream",
     "text": [
      "torch.Size([64, 10])\n"
     ]
    }
   ],
   "source": [
    "model = Classifier()\n",
    "\n",
    "images, labels = next(iter(testloader))\n",
    "\n",
    "# checking the shape of class probabilities\n",
    "ps = model(images)\n",
    "print(ps.shape)"
   ]
  },
  {
   "cell_type": "markdown",
   "metadata": {},
   "source": [
    "### Retrieving the class with highest probability\n",
    "\n",
    "With the probabilities, we can get the most likely class using the `ps.topk` method. This returns the $k$ highest values. Since we just want the most likely class, we can use `ps.topk(1)`. This returns a tuple of the top-$k$ values and the top-$k$ indices. If the highest value is the fifth element, we'll get back 4 as the index."
   ]
  },
  {
   "cell_type": "code",
   "execution_count": 4,
   "metadata": {},
   "outputs": [
    {
     "name": "stdout",
     "output_type": "stream",
     "text": [
      "tensor([[8],\n",
      "        [9],\n",
      "        [8],\n",
      "        [8],\n",
      "        [8],\n",
      "        [9],\n",
      "        [8],\n",
      "        [8],\n",
      "        [9],\n",
      "        [9]])\n"
     ]
    }
   ],
   "source": [
    "top_p, top_class = ps.topk(1, dim=1)\n",
    "print(top_class[:10, :])"
   ]
  },
  {
   "cell_type": "markdown",
   "metadata": {},
   "source": [
    "---\n",
    "After finding the predictions (top_class) we can equate it with original labels to find whether the predictions were correct or not.\n",
    "\n",
    "---\n",
    "` equals = top_class == labels ` would give us the necessary list of boolean values classifying the values as $correct-1$ an $incorrect-0$\n",
    "\n",
    "---"
   ]
  },
  {
   "cell_type": "code",
   "execution_count": 5,
   "metadata": {},
   "outputs": [
    {
     "name": "stdout",
     "output_type": "stream",
     "text": [
      "tensor([[False],\n",
      "        [False],\n",
      "        [False],\n",
      "        [False],\n",
      "        [False],\n",
      "        [False],\n",
      "        [False],\n",
      "        [False],\n",
      "        [False],\n",
      "        [False]])\n"
     ]
    }
   ],
   "source": [
    "equals = top_class == labels.view(*top_class.shape)\n",
    "print(equals[:10])"
   ]
  },
  {
   "cell_type": "markdown",
   "metadata": {},
   "source": [
    "### Calculating the Accuracy"
   ]
  },
  {
   "cell_type": "code",
   "execution_count": 6,
   "metadata": {},
   "outputs": [
    {
     "name": "stdout",
     "output_type": "stream",
     "text": [
      "Accuracy: 4.6875%\n"
     ]
    }
   ],
   "source": [
    "# since equals contains all the boolean values,\n",
    "# we must first convert it to floating point values,\n",
    "# in order to calculate the mean\n",
    "\n",
    "accuracy = torch.mean(equals.type(torch.FloatTensor))\n",
    "print(f'Accuracy: {accuracy*100}%')"
   ]
  },
  {
   "cell_type": "markdown",
   "metadata": {},
   "source": [
    "### Implementing a Validation pass in a loop"
   ]
  },
  {
   "cell_type": "code",
   "execution_count": 7,
   "metadata": {},
   "outputs": [
    {
     "name": "stdout",
     "output_type": "stream",
     "text": [
      "Epoch: 1/30   Training Loss: 0.5121   Testing Loss: 0.4621   Test Accuracy: 0.8310\n",
      "\n",
      "Epoch: 2/30   Training Loss: 0.3903   Testing Loss: 0.4446   Test Accuracy: 0.8381\n",
      "\n",
      "Epoch: 3/30   Training Loss: 0.3557   Testing Loss: 0.3976   Test Accuracy: 0.8572\n",
      "\n",
      "Epoch: 4/30   Training Loss: 0.3345   Testing Loss: 0.3757   Test Accuracy: 0.8656\n",
      "\n",
      "Epoch: 5/30   Training Loss: 0.3130   Testing Loss: 0.3774   Test Accuracy: 0.8673\n",
      "\n",
      "Epoch: 6/30   Training Loss: 0.3017   Testing Loss: 0.3819   Test Accuracy: 0.8667\n",
      "\n",
      "Epoch: 7/30   Training Loss: 0.2929   Testing Loss: 0.3655   Test Accuracy: 0.8737\n",
      "\n",
      "Epoch: 8/30   Training Loss: 0.2803   Testing Loss: 0.3808   Test Accuracy: 0.8645\n",
      "\n",
      "Epoch: 9/30   Training Loss: 0.2737   Testing Loss: 0.3731   Test Accuracy: 0.8750\n",
      "\n",
      "Epoch: 10/30   Training Loss: 0.2665   Testing Loss: 0.3524   Test Accuracy: 0.8767\n",
      "\n",
      "Epoch: 11/30   Training Loss: 0.2607   Testing Loss: 0.3615   Test Accuracy: 0.8797\n",
      "\n",
      "Epoch: 12/30   Training Loss: 0.2571   Testing Loss: 0.3521   Test Accuracy: 0.8802\n",
      "\n",
      "Epoch: 13/30   Training Loss: 0.2498   Testing Loss: 0.3640   Test Accuracy: 0.8817\n",
      "\n",
      "Epoch: 14/30   Training Loss: 0.2432   Testing Loss: 0.4131   Test Accuracy: 0.8699\n",
      "\n",
      "Epoch: 15/30   Training Loss: 0.2416   Testing Loss: 0.4186   Test Accuracy: 0.8726\n",
      "\n",
      "Epoch: 16/30   Training Loss: 0.2344   Testing Loss: 0.3783   Test Accuracy: 0.8783\n",
      "\n",
      "Epoch: 17/30   Training Loss: 0.2271   Testing Loss: 0.3769   Test Accuracy: 0.8771\n",
      "\n",
      "Epoch: 18/30   Training Loss: 0.2244   Testing Loss: 0.3780   Test Accuracy: 0.8790\n",
      "\n",
      "Epoch: 19/30   Training Loss: 0.2204   Testing Loss: 0.3780   Test Accuracy: 0.8815\n",
      "\n",
      "Epoch: 20/30   Training Loss: 0.2152   Testing Loss: 0.3906   Test Accuracy: 0.8822\n",
      "\n",
      "Epoch: 21/30   Training Loss: 0.2121   Testing Loss: 0.3813   Test Accuracy: 0.8778\n",
      "\n",
      "Epoch: 22/30   Training Loss: 0.2125   Testing Loss: 0.3825   Test Accuracy: 0.8800\n",
      "\n",
      "Epoch: 23/30   Training Loss: 0.2126   Testing Loss: 0.3968   Test Accuracy: 0.8809\n",
      "\n",
      "Epoch: 24/30   Training Loss: 0.2039   Testing Loss: 0.4156   Test Accuracy: 0.8803\n",
      "\n",
      "Epoch: 25/30   Training Loss: 0.1983   Testing Loss: 0.3951   Test Accuracy: 0.8813\n",
      "\n",
      "Epoch: 26/30   Training Loss: 0.1927   Testing Loss: 0.4140   Test Accuracy: 0.8835\n",
      "\n",
      "Epoch: 27/30   Training Loss: 0.2036   Testing Loss: 0.3816   Test Accuracy: 0.8860\n",
      "\n",
      "Epoch: 28/30   Training Loss: 0.1918   Testing Loss: 0.4398   Test Accuracy: 0.8761\n",
      "\n",
      "Epoch: 29/30   Training Loss: 0.1897   Testing Loss: 0.4336   Test Accuracy: 0.8874\n",
      "\n",
      "Epoch: 30/30   Training Loss: 0.1867   Testing Loss: 0.4537   Test Accuracy: 0.8778\n",
      "\n"
     ]
    }
   ],
   "source": [
    "model = Classifier()\n",
    "criterion = nn.NLLLoss()\n",
    "optimizer = optim.Adam(model.parameters(), lr=0.003)\n",
    "\n",
    "epochs = 30\n",
    "steps = 0\n",
    "\n",
    "train_losses, test_losses = [], []\n",
    "\n",
    "for e in range(epochs):\n",
    "    running_loss = 0\n",
    "    for images, labels in trainloader:\n",
    "        \n",
    "        optimizer.zero_grad()\n",
    "        \n",
    "        log_ps = model(images)\n",
    "        loss = criterion(log_ps, labels)\n",
    "        loss.backward()\n",
    "        optimizer.step()\n",
    "        \n",
    "        running_loss += loss.item()\n",
    "    \n",
    "    else:\n",
    "        test_loss = 0\n",
    "        accuracy = 0\n",
    "        \n",
    "#         turning the gradients off for validation pass for saving memory and faster computation\n",
    "        with torch.no_grad():\n",
    "            for images, labels in testloader:\n",
    "                log_ps = model(images)\n",
    "                loss = criterion(log_ps, labels)\n",
    "                test_loss += loss\n",
    "                \n",
    "                ps = torch.exp(log_ps)\n",
    "                top_p, top_class = ps.topk(1, dim=1)\n",
    "                \n",
    "                equals = top_class == labels.view(*top_class.shape)\n",
    "                accuracy += torch.mean(equals.type(torch.FloatTensor))\n",
    "        \n",
    "        test_losses.append(test_loss/len(testloader))\n",
    "        train_losses.append(running_loss/len(trainloader))\n",
    "        \n",
    "        print('Epoch: {}/{}  '.format(e+1,epochs),\n",
    "              'Training Loss: {:.4f}  '.format(running_loss/len(trainloader)),\n",
    "              'Testing Loss: {:.4f}  '.format(test_loss/len(testloader)),\n",
    "              'Test Accuracy: {:.4f}\\n'.format(accuracy/len(testloader)))"
   ]
  },
  {
   "cell_type": "markdown",
   "metadata": {},
   "source": [
    "### Plotting the results"
   ]
  },
  {
   "cell_type": "code",
   "execution_count": 9,
   "metadata": {},
   "outputs": [],
   "source": [
    "import matplotlib.pyplot as plt\n",
    "\n",
    "%matplotlib inline\n",
    "%config InlineBackend.figure_format = 'retina'"
   ]
  },
  {
   "cell_type": "code",
   "execution_count": 12,
   "metadata": {},
   "outputs": [
    {
     "data": {
      "text/plain": [
       "<matplotlib.legend.Legend at 0x22dee0863a0>"
      ]
     },
     "execution_count": 12,
     "metadata": {},
     "output_type": "execute_result"
    },
    {
     "data": {
      "image/png": "[encoded data removed]",
      "text/plain": [
       "<Figure size 432x288 with 1 Axes>"
      ]
     },
     "metadata": {
      "image/png": {
       "height": 248,
       "width": 380
      },
      "needs_background": "light"
     },
     "output_type": "display_data"
    }
   ],
   "source": [
    "plt.plot(train_losses, label='Training Loss')\n",
    "plt.plot(test_losses, label='Testing Loss')\n",
    "plt.legend(frameon='False')"
   ]
  },
  {
   "cell_type": "markdown",
   "metadata": {},
   "source": [
    "Overfitting has occurred"
   ]
  },
  {
   "cell_type": "code",
   "execution_count": null,
   "metadata": {},
   "outputs": [],
   "source": []
  }
 ],
 "metadata": {
  "kernelspec": {
   "display_name": "Python 3",
   "language": "python",
   "name": "python3"
  },
  "language_info": {
   "codemirror_mode": {
    "name": "ipython",
    "version": 3
   },
   "file_extension": ".py",
   "mimetype": "text/x-python",
   "name": "python",
   "nbconvert_exporter": "python",
   "pygments_lexer": "ipython3",
   "version": "3.8.5"
  }
 },
 "nbformat": 4,
 "nbformat_minor": 4
}
