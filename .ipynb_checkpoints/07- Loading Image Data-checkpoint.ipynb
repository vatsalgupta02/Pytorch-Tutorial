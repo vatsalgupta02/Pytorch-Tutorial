{
 "cells": [
  {
   "cell_type": "markdown",
   "metadata": {},
   "source": [
    "### Loading the Image Data"
   ]
  },
  {
   "cell_type": "code",
   "execution_count": 1,
   "metadata": {},
   "outputs": [],
   "source": [
    "import matplotlib.pyplot as plt\n",
    "%matplotlib inline\n",
    "%config InlineBackend.figure_format = 'retina'\n",
    "\n",
    "import torch\n",
    "from torchvision import transforms, datasets\n",
    "\n",
    "import helper"
   ]
  },
  {
   "cell_type": "markdown",
   "metadata": {},
   "source": [
    "The easiest way to load image data is with datasets.ImageFolder from torchvision. In general you'll use ImageFolder like so:\n",
    "\n",
    "`dataset = datasets.ImageFolder('path/to/data', transform=transform)`\n",
    "\n",
    "where `'path/to/data'` is the file path to the data directory and transform is a sequence of processing steps built with the transforms module from torchvision. `ImageFolder` expects the files and directories to be constructed like so:\n",
    "\n",
    " root/dog/xxx.png  \n",
    " root/dog/xxy.png  \n",
    " root/dog/xxz.png  \n",
    "\n",
    " root/cat/123.png  \n",
    " root/cat/nsdf3.png  \n",
    " root/cat/asd932_.png  \n",
    "\n",
    "where each class has its own directory (cat and dog) for the images."
   ]
  }
 ],
 "metadata": {
  "kernelspec": {
   "display_name": "Python 3",
   "language": "python",
   "name": "python3"
  },
  "language_info": {
   "codemirror_mode": {
    "name": "ipython",
    "version": 3
   },
   "file_extension": ".py",
   "mimetype": "text/x-python",
   "name": "python",
   "nbconvert_exporter": "python",
   "pygments_lexer": "ipython3",
   "version": "3.8.5"
  }
 },
 "nbformat": 4,
 "nbformat_minor": 4
}
