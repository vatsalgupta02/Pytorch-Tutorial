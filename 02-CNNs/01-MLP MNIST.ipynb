{
 "cells": [
  {
   "cell_type": "markdown",
   "id": "peripheral-richards",
   "metadata": {},
   "source": [
    "## Multi-Layer Perceptron, MNIST\n",
    "---\n",
    "The process for training any mlp model can be broken down as:\n",
    "> 1. Loading and Visualizing the data\n",
    "> 2. Defining the Neural Network\n",
    "> 3. Training the model\n",
    "> 4. Evaluating the performance of the model"
   ]
  },
  {
   "cell_type": "code",
   "execution_count": 1,
   "id": "second-sound",
   "metadata": {},
   "outputs": [],
   "source": [
    "import numpy as np\n",
    "import torch\n",
    "from torch import nn\n",
    "from torchvision import datasets, transforms\n",
    "import torch.nn.functional as F\n",
    "\n",
    "import matplotlib.pyplot as plt\n",
    "%matplotlib inline"
   ]
  },
  {
   "cell_type": "markdown",
   "id": "asian-consumer",
   "metadata": {},
   "source": [
    "## Loading the data"
   ]
  },
  {
   "cell_type": "code",
   "execution_count": 2,
   "id": "severe-fault",
   "metadata": {},
   "outputs": [],
   "source": [
    "# Downloading the data\n",
    "\n",
    "from six.moves import urllib\n",
    "opener = urllib.request.build_opener()\n",
    "opener.addheaders = [('User-agent', 'Mozilla/5.0')]\n",
    "urllib.request.install_opener(opener)"
   ]
  },
  {
   "cell_type": "code",
   "execution_count": 3,
   "id": "legal-terror",
   "metadata": {},
   "outputs": [],
   "source": [
    "from torch.utils.data.sampler import SubsetRandomSampler\n",
    "\n",
    "num_workers = 0\n",
    "bs = 20\n",
    "valid_size = 0.2\n",
    "\n",
    "transform = transforms.ToTensor()\n",
    "\n",
    "train_data = datasets.MNIST(root='data', train=True, download=True, transform=transform)\n",
    "test_data = datasets.MNIST(root='data', train=False, download=True, transform=transform)\n",
    "\n",
    "num_train = len(train_data)\n",
    "indices = list(range(num_train))\n",
    "np.random.shuffle(indices)\n",
    "split = int(np.floor(valid_size*num_train))\n",
    "train_idx, valid_idx = indices[split:], indices[:split]\n",
    "\n",
    "train_sampler = SubsetRandomSampler(train_idx)\n",
    "valid_sampler = SubsetRandomSampler(valid_idx)\n",
    "\n",
    "train_loader = torch.utils.data.DataLoader(train_data, batch_size=bs, sampler=train_sampler, num_workers=num_workers)\n",
    "valid_loader = torch.utils.data.DataLoader(train_data, batch_size=bs, sampler=valid_sampler, num_workers=num_workers)\n",
    "test_loader = torch.utils.data.DataLoader(test_data, batch_size=bs, num_workers=num_workers)"
   ]
  },
  {
   "cell_type": "markdown",
   "id": "plain-seeking",
   "metadata": {},
   "source": [
    "## Visualizing the data"
   ]
  },
  {
   "cell_type": "code",
   "execution_count": 4,
   "id": "finnish-samba",
   "metadata": {},
   "outputs": [
    {
     "name": "stderr",
     "output_type": "stream",
     "text": [
      "<ipython-input-4-a6c7eb0c5135>:7: MatplotlibDeprecationWarning: Passing non-integers as three-element position specification is deprecated since 3.3 and will be removed two minor releases later.\n",
      "  ax = fig.add_subplot(2, 20/2, idx+1, xticks=[], yticks=[])\n"
     ]
    },
    {
     "data": {
      "image/png": "[encoded data removed]",
      "text/plain": [
       "<Figure size 1800x288 with 20 Axes>"
      ]
     },
     "metadata": {},
     "output_type": "display_data"
    }
   ],
   "source": [
    "dataiter = iter(train_loader)\n",
    "images, labels = dataiter.next()\n",
    "images = images.numpy()\n",
    "\n",
    "fig = plt.figure(figsize=(25,4))\n",
    "for idx in np.arange(20):\n",
    "    ax = fig.add_subplot(2, 20/2, idx+1, xticks=[], yticks=[])\n",
    "    ax.imshow(np.squeeze(images[idx]), cmap='gray')\n",
    "    ax.set_title(str(labels[idx].item()))"
   ]
  },
  {
   "cell_type": "markdown",
   "id": "documented-louisville",
   "metadata": {},
   "source": [
    "## Defining the Neural Network"
   ]
  },
  {
   "cell_type": "code",
   "execution_count": 5,
   "id": "forced-prison",
   "metadata": {},
   "outputs": [
    {
     "name": "stdout",
     "output_type": "stream",
     "text": [
      "Network(\n",
      "  (fc1): Linear(in_features=784, out_features=512, bias=True)\n",
      "  (fc2): Linear(in_features=512, out_features=256, bias=True)\n",
      "  (fc3): Linear(in_features=256, out_features=10, bias=True)\n",
      "  (dropout): Dropout(p=0.2, inplace=False)\n",
      ")\n"
     ]
    }
   ],
   "source": [
    "class Network(nn.Module):\n",
    "    def __init__(self):\n",
    "        super().__init__()\n",
    "        \n",
    "        self.fc1 = nn.Linear(28*28, 512)\n",
    "        self.fc2 = nn.Linear(512, 256)\n",
    "        self.fc3 = nn.Linear(256, 10)\n",
    "        self.dropout = nn.Dropout(p=0.2)\n",
    "    \n",
    "    def forward(self, x):\n",
    "        x = x.view(-1, 28*28)\n",
    "        x = F.relu(self.fc1(x))\n",
    "        x = F.relu(self.fc2(x))\n",
    "        x = self.dropout(x)\n",
    "        x = self.fc3(x)\n",
    "        return x\n",
    "\n",
    "model = Network()\n",
    "print(model)"
   ]
  },
  {
   "cell_type": "code",
   "execution_count": 6,
   "id": "exterior-scholarship",
   "metadata": {},
   "outputs": [],
   "source": [
    "optimizer = torch.optim.SGD(model.parameters(), lr=0.01)\n",
    "criterion = nn.CrossEntropyLoss()"
   ]
  },
  {
   "cell_type": "markdown",
   "id": "alert-dutch",
   "metadata": {},
   "source": [
    "## Training the Network"
   ]
  },
  {
   "cell_type": "code",
   "execution_count": 7,
   "id": "mysterious-science",
   "metadata": {
    "scrolled": true
   },
   "outputs": [
    {
     "name": "stdout",
     "output_type": "stream",
     "text": [
      "Epoch: 1 \tTraining Loss: 0.954275 \tValidation Loss: 0.460653\n",
      "Validation loss decreased (inf--> 0.460653).\tSaving model ...\n",
      "\n",
      "Epoch: 2 \tTraining Loss: 0.356404 \tValidation Loss: 0.355645\n",
      "Validation loss decreased (0.460653--> 0.355645).\tSaving model ...\n",
      "\n",
      "Epoch: 3 \tTraining Loss: 0.286601 \tValidation Loss: 0.297724\n",
      "Validation loss decreased (0.355645--> 0.297724).\tSaving model ...\n",
      "\n",
      "Epoch: 4 \tTraining Loss: 0.240783 \tValidation Loss: 0.253145\n",
      "Validation loss decreased (0.297724--> 0.253145).\tSaving model ...\n",
      "\n",
      "Epoch: 5 \tTraining Loss: 0.205761 \tValidation Loss: 0.228662\n",
      "Validation loss decreased (0.253145--> 0.228662).\tSaving model ...\n",
      "\n",
      "Epoch: 6 \tTraining Loss: 0.179803 \tValidation Loss: 0.197448\n",
      "Validation loss decreased (0.228662--> 0.197448).\tSaving model ...\n",
      "\n",
      "Epoch: 7 \tTraining Loss: 0.157319 \tValidation Loss: 0.179657\n",
      "Validation loss decreased (0.197448--> 0.179657).\tSaving model ...\n",
      "\n",
      "Epoch: 8 \tTraining Loss: 0.139780 \tValidation Loss: 0.164203\n",
      "Validation loss decreased (0.179657--> 0.164203).\tSaving model ...\n",
      "\n",
      "Epoch: 9 \tTraining Loss: 0.126151 \tValidation Loss: 0.155035\n",
      "Validation loss decreased (0.164203--> 0.155035).\tSaving model ...\n",
      "\n",
      "Epoch: 10 \tTraining Loss: 0.114159 \tValidation Loss: 0.146476\n",
      "Validation loss decreased (0.155035--> 0.146476).\tSaving model ...\n",
      "\n",
      "Epoch: 11 \tTraining Loss: 0.104477 \tValidation Loss: 0.137669\n",
      "Validation loss decreased (0.146476--> 0.137669).\tSaving model ...\n",
      "\n",
      "Epoch: 12 \tTraining Loss: 0.093978 \tValidation Loss: 0.128847\n",
      "Validation loss decreased (0.137669--> 0.128847).\tSaving model ...\n",
      "\n",
      "Epoch: 13 \tTraining Loss: 0.087321 \tValidation Loss: 0.125767\n",
      "Validation loss decreased (0.128847--> 0.125767).\tSaving model ...\n",
      "\n",
      "Epoch: 14 \tTraining Loss: 0.079654 \tValidation Loss: 0.116941\n",
      "Validation loss decreased (0.125767--> 0.116941).\tSaving model ...\n",
      "\n",
      "Epoch: 15 \tTraining Loss: 0.072587 \tValidation Loss: 0.114347\n",
      "Validation loss decreased (0.116941--> 0.114347).\tSaving model ...\n",
      "\n",
      "Epoch: 16 \tTraining Loss: 0.068014 \tValidation Loss: 0.109000\n",
      "Validation loss decreased (0.114347--> 0.109000).\tSaving model ...\n",
      "\n",
      "Epoch: 17 \tTraining Loss: 0.063800 \tValidation Loss: 0.109033\n",
      "Epoch: 18 \tTraining Loss: 0.059115 \tValidation Loss: 0.104110\n",
      "Validation loss decreased (0.109000--> 0.104110).\tSaving model ...\n",
      "\n",
      "Epoch: 19 \tTraining Loss: 0.055043 \tValidation Loss: 0.106135\n",
      "Epoch: 20 \tTraining Loss: 0.051412 \tValidation Loss: 0.097769\n",
      "Validation loss decreased (0.104110--> 0.097769).\tSaving model ...\n",
      "\n",
      "Epoch: 21 \tTraining Loss: 0.047847 \tValidation Loss: 0.096972\n",
      "Validation loss decreased (0.097769--> 0.096972).\tSaving model ...\n",
      "\n",
      "Epoch: 22 \tTraining Loss: 0.044664 \tValidation Loss: 0.099893\n",
      "Epoch: 23 \tTraining Loss: 0.041175 \tValidation Loss: 0.093688\n",
      "Validation loss decreased (0.096972--> 0.093688).\tSaving model ...\n",
      "\n",
      "Epoch: 24 \tTraining Loss: 0.038239 \tValidation Loss: 0.095337\n",
      "Epoch: 25 \tTraining Loss: 0.036011 \tValidation Loss: 0.092707\n",
      "Validation loss decreased (0.093688--> 0.092707).\tSaving model ...\n",
      "\n",
      "Epoch: 26 \tTraining Loss: 0.033295 \tValidation Loss: 0.095739\n",
      "Epoch: 27 \tTraining Loss: 0.031964 \tValidation Loss: 0.092154\n",
      "Validation loss decreased (0.092707--> 0.092154).\tSaving model ...\n",
      "\n",
      "Epoch: 28 \tTraining Loss: 0.029880 \tValidation Loss: 0.093596\n",
      "Epoch: 29 \tTraining Loss: 0.027313 \tValidation Loss: 0.088475\n",
      "Validation loss decreased (0.092154--> 0.088475).\tSaving model ...\n",
      "\n",
      "Epoch: 30 \tTraining Loss: 0.025846 \tValidation Loss: 0.088879\n",
      "Epoch: 31 \tTraining Loss: 0.024224 \tValidation Loss: 0.088653\n",
      "Epoch: 32 \tTraining Loss: 0.022681 \tValidation Loss: 0.089131\n",
      "Epoch: 33 \tTraining Loss: 0.021450 \tValidation Loss: 0.087678\n",
      "Validation loss decreased (0.088475--> 0.087678).\tSaving model ...\n",
      "\n",
      "Epoch: 34 \tTraining Loss: 0.021041 \tValidation Loss: 0.087075\n",
      "Validation loss decreased (0.087678--> 0.087075).\tSaving model ...\n",
      "\n",
      "Epoch: 35 \tTraining Loss: 0.019289 \tValidation Loss: 0.087779\n",
      "Epoch: 36 \tTraining Loss: 0.018155 \tValidation Loss: 0.088555\n",
      "Epoch: 37 \tTraining Loss: 0.017398 \tValidation Loss: 0.085856\n",
      "Validation loss decreased (0.087075--> 0.085856).\tSaving model ...\n",
      "\n",
      "Epoch: 38 \tTraining Loss: 0.016154 \tValidation Loss: 0.088643\n",
      "Epoch: 39 \tTraining Loss: 0.014428 \tValidation Loss: 0.086417\n",
      "Epoch: 40 \tTraining Loss: 0.014487 \tValidation Loss: 0.087276\n",
      "Epoch: 41 \tTraining Loss: 0.013570 \tValidation Loss: 0.089012\n",
      "Epoch: 42 \tTraining Loss: 0.012420 \tValidation Loss: 0.086573\n",
      "Epoch: 43 \tTraining Loss: 0.012101 \tValidation Loss: 0.089496\n",
      "Epoch: 44 \tTraining Loss: 0.011348 \tValidation Loss: 0.086604\n",
      "Epoch: 45 \tTraining Loss: 0.010982 \tValidation Loss: 0.086819\n",
      "Epoch: 46 \tTraining Loss: 0.010029 \tValidation Loss: 0.087739\n",
      "Epoch: 47 \tTraining Loss: 0.009786 \tValidation Loss: 0.088051\n",
      "Epoch: 48 \tTraining Loss: 0.008967 \tValidation Loss: 0.087326\n",
      "Epoch: 49 \tTraining Loss: 0.008629 \tValidation Loss: 0.087060\n",
      "Epoch: 50 \tTraining Loss: 0.008348 \tValidation Loss: 0.088536\n"
     ]
    }
   ],
   "source": [
    "n_epochs = 50\n",
    "\n",
    "# initializing the tracker for min valid loss\n",
    "valid_loss_min = np.Inf  # set initial 'min' to infinity\n",
    "\n",
    "for epoch in range(n_epochs):\n",
    "    train_loss = 0\n",
    "    valid_loss = 0\n",
    "    \n",
    "    model.train()\n",
    "    for images, labels in train_loader:\n",
    "        optimizer.zero_grad()\n",
    "        op = model(images)\n",
    "        loss = criterion(op, labels)\n",
    "        loss.backward()\n",
    "        optimizer.step()\n",
    "        \n",
    "        train_loss += loss.item()\n",
    "\n",
    "\n",
    "    model.eval()\n",
    "    for images, labels in valid_loader:\n",
    "        op = model(images)\n",
    "        loss = criterion(op, labels)\n",
    "        valid_loss += loss.item()\n",
    "    \n",
    "    train_loss = train_loss/len(train_loader)\n",
    "    valid_loss = valid_loss/len(test_loader)\n",
    "    \n",
    "    print('Epoch: {} \\tTraining Loss: {:.6f} \\tValidation Loss: {:.6f}'.format(epoch+1, train_loss, valid_loss))\n",
    "    \n",
    "#     save model is validation loss has decreased\n",
    "    if valid_loss <= valid_loss_min:\n",
    "        print('Validation loss decreased ({:.6f}--> {:.6f}).\\tSaving model ...\\n'.format(valid_loss_min, valid_loss))\n",
    "        torch.save(model.state_dict(), 'model.pt')\n",
    "        valid_loss_min = valid_loss"
   ]
  },
  {
   "cell_type": "code",
   "execution_count": 8,
   "id": "knowing-blink",
   "metadata": {},
   "outputs": [
    {
     "data": {
      "text/plain": [
       "<All keys matched successfully>"
      ]
     },
     "execution_count": 8,
     "metadata": {},
     "output_type": "execute_result"
    }
   ],
   "source": [
    "model.load_state_dict(torch.load('model.pt'))"
   ]
  },
  {
   "cell_type": "markdown",
   "id": "personal-daisy",
   "metadata": {},
   "source": [
    "## Testing the Network\n",
    "---\n",
    "Testing out model on previously unseen test data, helps evaluate the model in the most unbiased fashion. It may also be useful to be granular in this analysis and take a look at how this model performs on each class as well as looking at its overall loss and accuracy."
   ]
  },
  {
   "cell_type": "code",
   "execution_count": 11,
   "id": "modified-activation",
   "metadata": {},
   "outputs": [
    {
     "name": "stdout",
     "output_type": "stream",
     "text": [
      "Test Loss: 0.063797\n",
      "\n",
      "Test Accuracy of     0: 98% (970/980)\n",
      "Test Accuracy of     1: 99% (1124/1135)\n",
      "Test Accuracy of     2: 98% (1012/1032)\n",
      "Test Accuracy of     3: 98% (994/1010)\n",
      "Test Accuracy of     4: 98% (964/982)\n",
      "Test Accuracy of     5: 97% (869/892)\n",
      "Test Accuracy of     6: 97% (937/958)\n",
      "Test Accuracy of     7: 98% (1011/1028)\n",
      "Test Accuracy of     8: 97% (947/974)\n",
      "Test Accuracy of     9: 97% (986/1009)\n",
      "\n",
      "Test Accuracy (Overall): 98% (9814/10000)\n"
     ]
    }
   ],
   "source": [
    "test_loss = 0\n",
    "class_correct = list(0. for i in range(10))\n",
    "class_total = list(0. for i in range(10))\n",
    "\n",
    "model.eval()\n",
    "\n",
    "for images, labels in test_loader:\n",
    "    op = model(images)\n",
    "    loss = criterion(op, labels)\n",
    "    test_loss += loss.item()\n",
    "    _, pred = torch.max(op, 1)\n",
    "    correct = np.squeeze(pred.eq(labels.data.view_as(pred)))\n",
    "#     print(correct)\n",
    "    \n",
    "    for i in range(bs):\n",
    "        lab = labels.data[i]\n",
    "        class_correct[lab] += correct[i].item()\n",
    "        class_total[lab] += 1\n",
    "\n",
    "test_loss = test_loss/len(test_loader)\n",
    "print('Test Loss: {:.6f}\\n'.format(test_loss))\n",
    "\n",
    "for i in range(10):\n",
    "    if class_total[i] > 0:\n",
    "        print('Test Accuracy of %5s: %2d%% (%2d/%2d)' % (\n",
    "            str(i), 100 * class_correct[i] / class_total[i],\n",
    "            np.sum(class_correct[i]), np.sum(class_total[i])))\n",
    "    else:\n",
    "        print('Test Accuracy of %5s: N/A (no training examples)' % (classes[i]))\n",
    "\n",
    "print('\\nTest Accuracy (Overall): %2d%% (%2d/%2d)' % (\n",
    "    100. * np.sum(class_correct) / np.sum(class_total),\n",
    "    np.sum(class_correct), np.sum(class_total)))"
   ]
  },
  {
   "cell_type": "markdown",
   "id": "geographic-bermuda",
   "metadata": {},
   "source": [
    "## Visualize Sample Test Results\n",
    "---\n",
    "This cell displays test images and their labels in this format: `predicted (ground-truth)`. The text will be green for accurately classified examples and red for incorrect predictions."
   ]
  },
  {
   "cell_type": "code",
   "execution_count": 12,
   "id": "crazy-venture",
   "metadata": {},
   "outputs": [
    {
     "name": "stderr",
     "output_type": "stream",
     "text": [
      "<ipython-input-12-c066ea460771>:12: MatplotlibDeprecationWarning: Passing non-integers as three-element position specification is deprecated since 3.3 and will be removed two minor releases later.\n",
      "  ax = fig.add_subplot(2, 20/2, idx+1, xticks=[], yticks=[])\n"
     ]
    },
    {
     "data": {
      "image/png": "[encoded data removed]",
      "text/plain": [
       "<Figure size 1800x288 with 20 Axes>"
      ]
     },
     "metadata": {},
     "output_type": "display_data"
    }
   ],
   "source": [
    "dataiter = iter(test_loader)\n",
    "images, labels = dataiter.next()\n",
    "\n",
    "# get sample outputs\n",
    "output = model(images)\n",
    "_, preds = torch.max(output, 1)\n",
    "images = images.numpy()\n",
    "\n",
    "# plot the images in the batch, along with predicted and true labels\n",
    "fig = plt.figure(figsize=(25, 4))\n",
    "for idx in np.arange(20):\n",
    "    ax = fig.add_subplot(2, 20/2, idx+1, xticks=[], yticks=[])\n",
    "    ax.imshow(np.squeeze(images[idx]), cmap='gray')\n",
    "    ax.set_title(\"{} ({})\".format(str(preds[idx].item()), str(labels[idx].item())),\n",
    "                 color=(\"green\" if preds[idx]==labels[idx] else \"red\"))"
   ]
  }
 ],
 "metadata": {
  "kernelspec": {
   "display_name": "Python 3",
   "language": "python",
   "name": "python3"
  },
  "language_info": {
   "codemirror_mode": {
    "name": "ipython",
    "version": 3
   },
   "file_extension": ".py",
   "mimetype": "text/x-python",
   "name": "python",
   "nbconvert_exporter": "python",
   "pygments_lexer": "ipython3",
   "version": "3.8.5"
  }
 },
 "nbformat": 4,
 "nbformat_minor": 5
}
